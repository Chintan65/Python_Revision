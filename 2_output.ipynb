{
 "cells": [
  {
   "cell_type": "markdown",
   "id": "9f35c63b",
   "metadata": {},
   "source": [
    "f-strings"
   ]
  },
  {
   "cell_type": "code",
   "execution_count": 2,
   "id": "6f65bf7f",
   "metadata": {},
   "outputs": [
    {
     "name": "stdout",
     "output_type": "stream",
     "text": [
      "my name is chintan and my favourite number is 10\n"
     ]
    }
   ],
   "source": [
    "a = \"chintan\"\n",
    "b = 10\n",
    "print(f\"my name is {a} and my favourite number is {b}\")\n"
   ]
  },
  {
   "cell_type": "markdown",
   "id": "31f60ccf",
   "metadata": {},
   "source": [
    "Formatting Output using String Modulo Operator(%)"
   ]
  },
  {
   "cell_type": "code",
   "id": "353afb9b",
   "metadata": {
    "ExecuteTime": {
     "end_time": "2025-05-24T11:55:41.683622Z",
     "start_time": "2025-05-24T11:55:41.677642Z"
    }
   },
   "source": [
    "x = 123.1234\n",
    "y = 45\n",
    "print(x,y)\n",
    "print(\"this is %d and %f\" % (x,y))\n",
    "print(\"this is %f and %d\" % (x,y))\n",
    "print(\"this is %20f and %10d\" % (x,y))\n",
    "print(\"this is %10.5f and %20.5d \" % (x,y))\n",
    "print(\"this is %.2f anf %0.1d\" % (x,y))"
   ],
   "outputs": [
    {
     "name": "stdout",
     "output_type": "stream",
     "text": [
      "123.1234 45\n",
      "this is 123 and 45.000000\n",
      "this is 123.123400 and 45\n",
      "this is           123.123400 and         45\n",
      "this is  123.12340 and                00045 \n",
      "this is 123.12 anf 45\n"
     ]
    }
   ],
   "execution_count": 3
  },
  {
   "cell_type": "code",
   "execution_count": 9,
   "id": "343489c2",
   "metadata": {},
   "outputs": [
    {
     "name": "stdout",
     "output_type": "stream",
     "text": [
      "float 123.123400\n",
      "modefied float 123.123\n",
      "string 123.1234\n",
      "integer 123\n",
      "scientific 1.231234e+02\n",
      "scientific 1.231234E+02\n",
      "hexadecimal 2d\n",
      "octal 55\n"
     ]
    }
   ],
   "source": [
    "print(\"float %f\" % x)\n",
    "print(\"modefied float %0.3f\" % x)\n",
    "print(\"string %s\" % x)\n",
    "print(\"integer %d\" % x)\n",
    "print(\"scientific %e\" % x)\n",
    "print(\"scientific %E\" % x)\n",
    "print(\"hexadecimal %x\" % y)\n",
    "print(\"octal %o\" % y)"
   ]
  },
  {
   "cell_type": "markdown",
   "id": "e546ff01",
   "metadata": {},
   "source": [
    "sep and end parameter"
   ]
  },
  {
   "cell_type": "code",
   "execution_count": 10,
   "id": "bebda425",
   "metadata": {},
   "outputs": [
    {
     "name": "stdout",
     "output_type": "stream",
     "text": [
      "one-two.\n",
      "one-two-three\n"
     ]
    }
   ],
   "source": [
    "print(\"one\",end=\"-\")\n",
    "print(\"two\",end=\".\\n\")\n",
    "print(\"one\",\"two\",\"three\",sep=\"-\")"
   ]
  },
  {
   "cell_type": "code",
   "execution_count": 2,
   "id": "9fade804",
   "metadata": {},
   "outputs": [
    {
     "name": "stdout",
     "output_type": "stream",
     "text": [
      "chintan.sindhav.python.proggrammer\n"
     ]
    }
   ],
   "source": [
    "x = [\"chintan\" , \"sindhav\" , \"python\" , \"proggrammer\"]\n",
    "y = \".\".join(x)\n",
    "print(y)"
   ]
  },
  {
   "cell_type": "markdown",
   "id": "893fb3ce",
   "metadata": {},
   "source": [
    "### list comprehension\n",
    "### [expression for item in iterable if condition]\n",
    "##### expression: The transformation or value to be included in the new list.\n",
    "##### item: The current element taken from the iterable.\n",
    "##### iterable: A sequence or collection (e.g., list, tuple, set).\n",
    "##### if condition (optional): A filtering condition that decides whether the current item should be included."
   ]
  },
  {
   "cell_type": "code",
   "execution_count": 5,
   "id": "e748557f",
   "metadata": {},
   "outputs": [
    {
     "name": "stdout",
     "output_type": "stream",
     "text": [
      "[4, 8, 12, 16, 20]\n",
      "[1, 3, 5, 7, 9]\n"
     ]
    }
   ],
   "source": [
    "x = [1,2,3,4,5,6,7,8,9,10]\n",
    "y = [it*2 for it in x if it%2==0]\n",
    "print(y)\n",
    "n = [i for i in range(1,10,2)]\n",
    "print(n)"
   ]
  },
  {
   "cell_type": "code",
   "execution_count": 7,
   "id": "e46a2bd0",
   "metadata": {},
   "outputs": [
    {
     "name": "stdout",
     "output_type": "stream",
     "text": [
      "[(1, 10, 20), (1, 10, 21), (1, 11, 20), (1, 11, 21)]\n"
     ]
    }
   ],
   "source": [
    "cor = [(x,y,z) for x in range(1,2) for y in range(10,12) for z in range(20,22)]\n",
    "print(cor)"
   ]
  },
  {
   "cell_type": "code",
   "execution_count": 9,
   "id": "0b534627",
   "metadata": {},
   "outputs": [
    {
     "name": "stdout",
     "output_type": "stream",
     "text": [
      "['1', '2', '3', '4', '5', '6', '7']\n"
     ]
    }
   ],
   "source": [
    "x = [it for it in input().split()]\n",
    "print(x)"
   ]
  },
  {
   "cell_type": "code",
   "execution_count": null,
   "id": "fd08103f",
   "metadata": {},
   "outputs": [],
   "source": []
  }
 ],
 "metadata": {
  "kernelspec": {
   "display_name": "Python 3",
   "language": "python",
   "name": "python3"
  },
  "language_info": {
   "codemirror_mode": {
    "name": "ipython",
    "version": 3
   },
   "file_extension": ".py",
   "mimetype": "text/x-python",
   "name": "python",
   "nbconvert_exporter": "python",
   "pygments_lexer": "ipython3",
   "version": "3.10.17"
  }
 },
 "nbformat": 4,
 "nbformat_minor": 5
}
