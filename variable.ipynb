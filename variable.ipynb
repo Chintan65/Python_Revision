{
 "cells": [
  {
   "cell_type": "markdown",
   "id": "46ab45f0",
   "metadata": {},
   "source": [
    "isinstance(variable,type)"
   ]
  },
  {
   "cell_type": "code",
   "execution_count": 1,
   "id": "f5214738",
   "metadata": {},
   "outputs": [
    {
     "name": "stdout",
     "output_type": "stream",
     "text": [
      "True\n",
      "False\n"
     ]
    }
   ],
   "source": [
    "s = \"chintan\"\n",
    "print(isinstance(s, str))\n",
    "print(isinstance(s, list))"
   ]
  },
  {
   "cell_type": "markdown",
   "id": "508d90b8",
   "metadata": {},
   "source": []
  }
 ],
 "metadata": {
  "kernelspec": {
   "display_name": "dl",
   "language": "python",
   "name": "python3"
  },
  "language_info": {
   "codemirror_mode": {
    "name": "ipython",
    "version": 3
   },
   "file_extension": ".py",
   "mimetype": "text/x-python",
   "name": "python",
   "nbconvert_exporter": "python",
   "pygments_lexer": "ipython3",
   "version": "3.10.17"
  }
 },
 "nbformat": 4,
 "nbformat_minor": 5
}
