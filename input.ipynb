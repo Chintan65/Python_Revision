{
 "cells": [
  {
   "cell_type": "markdown",
   "id": "28c75131",
   "metadata": {},
   "source": [
    "#### input() function in python"
   ]
  },
  {
   "cell_type": "code",
   "id": "4159ed6e",
   "metadata": {
    "ExecuteTime": {
     "end_time": "2025-05-24T11:54:08.050777Z",
     "start_time": "2025-05-24T11:53:45.100585Z"
    }
   },
   "source": [
    "x = input()\n",
    "y = input(\"enter you name - \")\n",
    "n = int(input())\n",
    "f = float(input())\n",
    "a,b,c = input(\"enter 3 number - \").split()\n",
    "print(x,y,n,f,a,b,c)"
   ],
   "outputs": [
    {
     "name": "stdout",
     "output_type": "stream",
     "text": [
      "5 chintan sindhav 5 56.56 3 4 5\n"
     ]
    }
   ],
   "execution_count": 4
  },
  {
   "cell_type": "markdown",
   "id": "e487e330",
   "metadata": {},
   "source": [
    "#### Type Casting in Python (Implicit and Explicit)"
   ]
  },
  {
   "cell_type": "code",
   "id": "e66276dd",
   "metadata": {
    "ExecuteTime": {
     "end_time": "2025-05-24T11:54:22.682769Z",
     "start_time": "2025-05-24T11:54:22.678406Z"
    }
   },
   "source": [
    "a = 5\n",
    "b = 4.5\n",
    "c = a*b\n",
    "print(f\"this si implicite typecastin (no need for user involvment) - {c} so it is {type(c)}\")"
   ],
   "outputs": [
    {
     "name": "stdout",
     "output_type": "stream",
     "text": [
      "this si implicite typecastin (no need for user involvment) - 22.5 so it is <class 'float'>\n"
     ]
    }
   ],
   "execution_count": 5
  },
  {
   "cell_type": "code",
   "id": "03b9389f",
   "metadata": {
    "ExecuteTime": {
     "end_time": "2025-05-24T11:54:30.053728Z",
     "start_time": "2025-05-24T11:54:30.049258Z"
    }
   },
   "source": [
    "print(\"Explicit typecasting \")\n",
    "a = 5.9\n",
    "print(a,type(a))\n",
    "a = int(a)\n",
    "print(a,type(a))\n",
    "a = str(a)\n",
    "print(a,type(a))"
   ],
   "outputs": [
    {
     "name": "stdout",
     "output_type": "stream",
     "text": [
      "Explicit typecasting \n",
      "5.9 <class 'float'>\n",
      "5 <class 'int'>\n",
      "5 <class 'str'>\n"
     ]
    }
   ],
   "execution_count": 6
  },
  {
   "cell_type": "code",
   "execution_count": 11,
   "id": "050cb2d2",
   "metadata": {},
   "outputs": [
    {
     "name": "stdout",
     "output_type": "stream",
     "text": [
      "['chintan', 'sindhav'] <class 'list'>\n",
      "['chintan', 'sindhav'] <class 'list'>\n",
      "['chintan', 'sindhav'] <class 'list'>\n",
      "['c', 'h', 'i', 'n', 't', 'a', 'n', ' ', 's', 'i', 'n', 'd', 'h', 'a', 'v'] <class 'list'>\n"
     ]
    }
   ],
   "source": [
    "l = list(input().split())\n",
    "print(l,type(l))\n",
    "ll = input().split()\n",
    "print(ll,type(ll))\n",
    "x = \"chintan sindhav\"\n",
    "xl = list(x.split())\n",
    "print(xl,type(xl))\n",
    "xl = list(x)\n",
    "print(xl,type(xl))"
   ]
  },
  {
   "cell_type": "markdown",
   "id": "098293d6",
   "metadata": {},
   "source": [
    "split(sepretor, maxsplit) usage"
   ]
  },
  {
   "cell_type": "code",
   "execution_count": 2,
   "id": "1979a639",
   "metadata": {},
   "outputs": [
    {
     "name": "stdout",
     "output_type": "stream",
     "text": [
      "['my', 'name', 'is', 'chintan']\n",
      "['my', 'name,is,chintan']\n",
      "['my', 'name', 'is,chintan']\n",
      "['my', 'name', 'is', 'chintan']\n",
      "['my', 'name', 'is', 'chintan']\n"
     ]
    }
   ],
   "source": [
    "s = \"my,name,is,chintan\"\n",
    "s1 = s.split(\",\")\n",
    "print(s1)\n",
    "s2 = s.split(\",\",1)\n",
    "print(s2)\n",
    "s3 = s.split(\",\",2)\n",
    "print(s3)\n",
    "s4 = s.split(\",\",3)\n",
    "print(s4)\n",
    "s5 = s.split(\",\",4)\n",
    "print(s5)"
   ]
  },
  {
   "cell_type": "markdown",
   "id": "8c311f5c",
   "metadata": {},
   "source": [
    "map(function,iterable)\n",
    "- function: The function we want to apply to every element of the iterable.\n",
    "- iterable: The iterable whose elements we want to process.\n",
    "\n",
    "strip() \n",
    "- to remove extra space \n",
    "\n",
    "[:n] \n",
    "- to take first n input"
   ]
  },
  {
   "cell_type": "code",
   "execution_count": 14,
   "id": "78c62cd0",
   "metadata": {},
   "outputs": [
    {
     "name": "stdout",
     "output_type": "stream",
     "text": [
      "[1, 2, 3, 4, 5]\n",
      "5 - 5\n"
     ]
    }
   ],
   "source": [
    "n = int(input())\n",
    "l = list(map(int,input().strip().split()))[:n]\n",
    "y = int(input())\n",
    "print(l)\n",
    "print(n,y,sep=\" - \")"
   ]
  },
  {
   "cell_type": "code",
   "execution_count": 15,
   "id": "8d437b96",
   "metadata": {},
   "outputs": [
    {
     "name": "stdout",
     "output_type": "stream",
     "text": [
      "[1, 2, 3, 4, 5]\n",
      "[1, 4, 9, 16, 25]\n",
      "[1, 2, 3, 4, 5]\n"
     ]
    }
   ],
   "source": [
    "import math\n",
    "print(l)\n",
    "def x(b) : return int(b*b)\n",
    "l = list(map(x,l))\n",
    "print(l)\n",
    "ll = list(map(lambda y : int(math.sqrt(y)),l))\n",
    "print(ll)"
   ]
  },
  {
   "cell_type": "code",
   "execution_count": null,
   "id": "47914350",
   "metadata": {},
   "outputs": [
    {
     "name": "stdout",
     "output_type": "stream",
     "text": [
      "['CHINTAN', 'SINDHAV']\n",
      "['ruturaj', 'sindhav']\n"
     ]
    }
   ],
   "source": [
    "\n",
    "s1 = ['chintan', 'sindhav']\n",
    "s2 = ['ruturaj           ', 'sindhav']\n",
    "s3 = list(map(str.upper, s1))\n",
    "print(s3)\n",
    "s4 = list(map(str.strip, s2))\n",
    "print(s4)"
   ]
  },
  {
   "cell_type": "markdown",
   "id": "613e36a2",
   "metadata": {},
   "source": [
    "List Comprehension"
   ]
  },
  {
   "cell_type": "code",
   "id": "2a04208b",
   "metadata": {
    "ExecuteTime": {
     "end_time": "2025-05-24T11:54:52.933429Z",
     "start_time": "2025-05-24T11:54:38.001255Z"
    }
   },
   "source": [
    "n = int(input())\n",
    "l = [input() for _ in range(n)]\n",
    "print(l)"
   ],
   "outputs": [
    {
     "name": "stdout",
     "output_type": "stream",
     "text": [
      "['r', 'rt', 'r t', 'r', 't']\n"
     ]
    }
   ],
   "execution_count": 7
  },
  {
   "cell_type": "code",
   "execution_count": null,
   "id": "4426e0e8",
   "metadata": {},
   "outputs": [],
   "source": []
  }
 ],
 "metadata": {
  "kernelspec": {
   "display_name": "Python 3",
   "language": "python",
   "name": "python3"
  },
  "language_info": {
   "codemirror_mode": {
    "name": "ipython",
    "version": 3
   },
   "file_extension": ".py",
   "mimetype": "text/x-python",
   "name": "python",
   "nbconvert_exporter": "python",
   "pygments_lexer": "ipython3",
   "version": "3.10.17"
  }
 },
 "nbformat": 4,
 "nbformat_minor": 5
}
