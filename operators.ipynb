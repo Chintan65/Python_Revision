{
 "cells": [
  {
   "cell_type": "markdown",
   "id": "cfe88d03",
   "metadata": {},
   "source": [
    "# Associativity, Associative Property, and Operator Precedence\n",
    "\n",
    "## What is Associativity?\n",
    "\n",
    "**Associativity** defines the order in which operators of the same precedence are evaluated:\n",
    "\n",
    "- **Left-to-Right**: Evaluated from left to right (e.g., `a + b + c` is `(a + b) + c`).\n",
    "- **Right-to-Left**: Evaluated from right to left (e.g., `a ** b ** c` is `a ** (b ** c)`).\n",
    "\n",
    "The **associative property** applies to operations where grouping doesn't affect the result:\n",
    "\n",
    "- Addition: `(a + b) + c = a + (b + c)`\n",
    "- Multiplication: `(a × b) × c = a × (b × c)`\n",
    "- **Non-associative**: Subtraction, division, e.g., `(a - b) - c ≠ a - (b - c)`.\n",
    "\n",
    "## Operator Precedence Table\n",
    "\n",
    "Below is a complete table of common operators, with `|` and `||` escaped to prevent rendering issues, ordered by precedence (higher number = higher priority).\n",
    "\n",
    "| Precedence | Operator                                      | Description                               | Associativity |\n",
    "| ---------- | --------------------------------------------- | ----------------------------------------- | ------------- |\n",
    "| 11         | `()`                                        | Parentheses                               | N/A           |\n",
    "| 10         | `**`                                        | Exponentiation                            | Right-to-Left |\n",
    "| 9          | `+x`, `-x`, `~x`                        | Unary plus, minus, bitwise NOT            | Right-to-Left |\n",
    "| 8          | `*`, `/`, `%`                           | Multiplication, Division, Modulus         | Left-to-Right |\n",
    "| 7          | `+`, `-`                                  | Addition, Subtraction                     | Left-to-Right |\n",
    "| 6          | `<<`, `>>`                                | Bitwise Left Shift, Right Shift           | Left-to-Right |\n",
    "| 5          | `&`                                         | Bitwise AND                               | Left-to-Right |\n",
    "| 4          | `^`                                         | Bitwise XOR                               | Left-to-Right |\n",
    "| 3          | `\\|`                                         | Bitwise OR                                | Left-to-Right |\n",
    "| 2          | `==`, `!=`, `<`, `>`, `<=`, `>=`  | Comparison (Equal, Not Equal, Less, etc.) | Left-to-Right |\n",
    "| 1          | `&&`                                        | Logical AND                               | Left-to-Right |\n",
    "| 1          | `\\|\\|`                                        | Logical OR                                | Left-to-Right |\n",
    "| 0          | `=`, `+=`, `-=`, `*=`, `/=`, `%=` | Assignment and Compound Assignment        | Right-to-Left |\n",
    "\n",
    "## Example Covering Multiple Operators\n",
    "\n",
    "Expression: `a = 5 + 3 * 2 ** 2 - 4 / 2 > 10 && 8 % 3 == 2 \\|\\| 1 \\| 2 == 3`\n",
    "\n",
    "### Evaluation Step-by-Step:\n",
    "\n",
    "1. **Parentheses (11)**: None, so follow precedence.\n",
    "2. **Exponentiation (10, Right-to-Left)**: `2 ** 2 = 4`.\n",
    "3. **Multiplication/Division (8, Left-to-Right)**: `3 * 4 = 12`, `4 / 2 = 2`.\n",
    "4. **Addition/Subtraction (7, Left-to-Right)**: `5 + 12 - 2 = 15`.\n",
    "5. **Modulus (8, Left-to-Right)**: `8 % 3 = 2`.\n",
    "6. **Bitwise OR (3, Left-to-Right)**: `1 \\| 2 = 3` (binary: `01 \\| 10 = 11`).\n",
    "7. **Comparison (2, Left-to-Right)**: `15 > 10 = true`, `2 == 2 = true`, `3 == 3 = true`.\n",
    "8. **Logical AND (1, Left-to-Right)**: `true && true = true`.\n",
    "9. **Logical OR (1, Left-to-Right)**: `true \\|\\| true = true`.\n",
    "10. **Assignment (0, Right-to-Left)**: `a = true`.\n",
    "\n",
    "**Result**: `a` is assigned `true`.\n",
    "\n",
    "This example demonstrates precedence, associativity, and the associative property (e.g., `5 + 12` grouping)."
   ]
  },
  {
   "cell_type": "markdown",
   "id": "a7103582",
   "metadata": {},
   "source": [
    "Bitwise operator"
   ]
  },
  {
   "cell_type": "code",
   "execution_count": 4,
   "id": "3fd535f9",
   "metadata": {},
   "outputs": [
    {
     "name": "stdout",
     "output_type": "stream",
     "text": [
      "0b1101 -  a = 13\n",
      "0b10000 -  b = 16\n",
      "-0b1110 -  a = -14\n",
      "-0b10001 -  b = -17\n",
      "0b0 -  a & b = 0\n",
      "0b11101 -  a | b = 29\n",
      "0b11101 -  a ^ b = 29\n",
      "0b11010 -  a << 2 = 26\n",
      "0b1000 -  b >> 2 = 8\n"
     ]
    }
   ],
   "source": [
    "a = 13\n",
    "b = 16\n",
    "print(f\"{bin(a)} -  a = {a}\")\n",
    "print(f\"{bin(b)} -  b = {b}\")\n",
    "print(f\"{bin(~a)} -  a = {~a}\")\n",
    "print(f\"{bin(~b)} -  b = {~b}\")\n",
    "print(f\"{bin(a & b)} -  a & b = {a & b}\")\n",
    "print(f\"{bin(a | b)} -  a | b = {a | b}\")   \n",
    "print(f\"{bin(a ^ b)} -  a ^ b = {a ^ b}\")\n",
    "print(f\"{bin(a << 1)} -  a << 2 = {a << 1}\")\n",
    "print(f\"{bin(b >> 1)} -  b >> 2 = {b >> 1}\")"
   ]
  },
  {
   "cell_type": "markdown",
   "id": "e10956b9",
   "metadata": {},
   "source": [
    "Python Membership Operators\n",
    "- The Python membership operators test for the membership of an object in a sequence, such as strings, lists, or tuples.\n",
    "- Python IN Operator \n",
    "    - The in operator is used to check if a character/substring/element exists in a sequence or not\n",
    "- Python NOT IN Operator \n",
    "    - The 'not in' Python operator evaluates to true if it does not find the variable in the specified sequence and false otherwise."
   ]
  },
  {
   "cell_type": "code",
   "execution_count": 3,
   "id": "7329f22b",
   "metadata": {},
   "outputs": [
    {
     "name": "stdout",
     "output_type": "stream",
     "text": [
      "True False\n",
      "False True\n",
      "True False\n",
      "True False\n"
     ]
    }
   ],
   "source": [
    "l = [2, 3, 5, 7, 11, 13, 17, 19, 23, 29]\n",
    "s = \"hello world\"\n",
    "mp = {\"chintan\": 1, \"sachin\": 2, \"sanjay\": 3}\n",
    "print(5 in l, 6 in l)\n",
    "print(5 not in l, 6 not in l)\n",
    "print('h' in s , 'h' not in s)\n",
    "print(\"chintan\" in mp, \"chintan\" not in mp)"
   ]
  },
  {
   "cell_type": "markdown",
   "id": "c6677e57",
   "metadata": {},
   "source": [
    "operators.contains() Method\n",
    "- Syntax: operator.contains(sequence, value)\n",
    "- In this code we have initialized a list, string, set, dictionary and a tuple. Then we use operator module's contain() function to check if the element occurs in the corresponding sequences or not."
   ]
  },
  {
   "cell_type": "code",
   "execution_count": 4,
   "id": "cf7f4447",
   "metadata": {},
   "outputs": [
    {
     "name": "stdout",
     "output_type": "stream",
     "text": [
      "True\n",
      "False\n",
      "False\n",
      "True\n"
     ]
    }
   ],
   "source": [
    "import operator\n",
    "print(operator.contains(l,5))\n",
    "print(operator.contains(l,6))\n",
    "print(operator.contains(s,'R'))\n",
    "print(operator.contains(mp,'sanjay'))"
   ]
  },
  {
   "cell_type": "markdown",
   "id": "2eed2a4e",
   "metadata": {},
   "source": [
    "Python Identity Operators\n",
    "- The Python Identity Operators are used to compare the objects if both the objects are actually of the same data type and share the same memory location\n",
    "- Python IS Operator\n",
    "    - The is operator evaluates to True if the variables on either side of the operator point to the same object in the memory and false otherwise.\n",
    "- Python IS NOT Operator\n",
    "    - The is not operator evaluates True if both variables on the either side of the operator are not the same object in the memory location otherwise it evaluates False."
   ]
  },
  {
   "cell_type": "code",
   "execution_count": 7,
   "id": "22104ff8",
   "metadata": {},
   "outputs": [
    {
     "name": "stdout",
     "output_type": "stream",
     "text": [
      "False\n",
      "True\n",
      "True\n",
      "True\n",
      "True\n",
      "False\n"
     ]
    }
   ],
   "source": [
    "a = [1, 2, 3]\n",
    "b = [1, 2, 3]\n",
    "c = a\n",
    "print(a is b)  # False, different objects\n",
    "print(a is c)  # True, same object\n",
    "print(a == b)  # True, same content\n",
    "print(a == c)  # True, same content\n",
    "print(a is not b)  # True, different objects\n",
    "print(a is not c)  # False, same object\n"
   ]
  },
  {
   "cell_type": "markdown",
   "id": "cb356a87",
   "metadata": {},
   "source": [
    "Ternary Operator\n",
    "- The ternary operator in Python allows us to perform conditional checks and assign values\n",
    "- Syntax :  [on_true] if [expression] else [on_false] "
   ]
  },
  {
   "cell_type": "code",
   "execution_count": 6,
   "id": "6442c6dd",
   "metadata": {},
   "outputs": [
    {
     "name": "stdout",
     "output_type": "stream",
     "text": [
      "odd\n",
      "5\n",
      "condition is true - odd\n"
     ]
    }
   ],
   "source": [
    "x = 5\n",
    "print(\"even\" if x%2==0 else \"odd\") # if else expression\n",
    "print(\">5\" if x > 5 else \"<5\" if x < 5 else \"5\") # nested if else expression\n",
    "tp = (\"condition is false - even\", \"condition is true - odd\")[x % 2 == 1] # tuple indexing\n",
    "print(tp)  # prints \"condition is true - odd\" if x is odd, otherwise \"condition is false - even\""
   ]
  }
 ],
 "metadata": {
  "kernelspec": {
   "display_name": "dl",
   "language": "python",
   "name": "python3"
  },
  "language_info": {
   "codemirror_mode": {
    "name": "ipython",
    "version": 3
   },
   "file_extension": ".py",
   "mimetype": "text/x-python",
   "name": "python",
   "nbconvert_exporter": "python",
   "pygments_lexer": "ipython3",
   "version": "3.10.17"
  }
 },
 "nbformat": 4,
 "nbformat_minor": 5
}
